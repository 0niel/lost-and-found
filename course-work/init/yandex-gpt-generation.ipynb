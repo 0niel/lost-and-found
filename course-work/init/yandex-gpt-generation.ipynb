{
 "cells": [
  {
   "cell_type": "code",
   "execution_count": 2,
   "outputs": [],
   "source": [
    "%load_ext dotenv\n",
    "%dotenv"
   ],
   "metadata": {
    "collapsed": false,
    "ExecuteTime": {
     "end_time": "2023-08-13T10:59:15.542062Z",
     "start_time": "2023-08-13T10:59:15.528914Z"
    }
   },
   "id": "802316cf6a0e8b4a"
  },
  {
   "cell_type": "code",
   "execution_count": 77,
   "outputs": [],
   "source": [
    "min_tokens_key = \"min_tokens\"\n",
    "max_tokens_key = \"max_tokens\"\n",
    "\n",
    "description_key = \"description\"\n",
    "\n",
    "subsections_key = \"subsections\"\n",
    "subsubsections_key = \"subsubsections\"\n",
    "\n",
    "has_subconclusion_key = \"has_subconclusion\"\n",
    "subconclusion_name = \"Вывод по разделу\"\n",
    "is_subconclusion_key = \"is_subconclusion\"\n",
    "\n",
    "is_supersection_key = \"is_supersection\"\n",
    "disable_subsections_generation_key = \"disable_subsections_generation\""
   ],
   "metadata": {
    "collapsed": false,
    "ExecuteTime": {
     "end_time": "2023-08-13T19:23:24.305415Z",
     "start_time": "2023-08-13T19:23:24.301550Z"
    }
   },
   "id": "ff2c0d1b2a8ec9f5"
  },
  {
   "cell_type": "code",
   "execution_count": 78,
   "outputs": [],
   "source": [
    "theme = \"Веб-сервис Бюро находок\"\n",
    "description = \"Веб-сервис Бюро находок представляет собой программу, написанную на Next.js c помощью языка программирования TypeScript. Проект также использует технологии: tRPC, Tailwind, Prisma, NextAuth\"\n",
    "\n",
    "TOKENS_PER_PAGE = 370\n",
    "sections = [\n",
    "    {\n",
    "        \"name\": \"Введение\",\n",
    "        is_supersection_key: True,\n",
    "        has_subconclusion_key: False,\n",
    "        disable_subsections_generation_key: True,\n",
    "        min_tokens_key: int(1.5 * TOKENS_PER_PAGE),\n",
    "        max_tokens_key: 2 * TOKENS_PER_PAGE,\n",
    "        description_key:\n",
    "\"\"\"\n",
    "Во введении отражается актуальность, цель и задачи ВКР. Введение содержит:\n",
    "− обоснование выбора темы работы и ее актуальности; \n",
    "− формулировку цели и задач исследования;\n",
    "− понятия объекта и предмета исследования;\n",
    "− планируемые результаты работы;\n",
    "− выбранные методы решения поставленных задач.\n",
    "\"\"\"\n",
    "    },\n",
    "    {\n",
    "        \"name\": \"Аналитический раздел\",\n",
    "        is_supersection_key: False,\n",
    "        has_subconclusion_key: True,\n",
    "        disable_subsections_generation_key: False,\n",
    "        min_tokens_key: 10 * TOKENS_PER_PAGE,\n",
    "        max_tokens_key: 15 * TOKENS_PER_PAGE,\n",
    "        description_key:\n",
    "\"\"\"\n",
    "Первый раздел посвящен анализу предметной области и объекта производственно-технологической профессиональной деятельности. В нем приводят основные обзорно-аналитические материалы для приводимых в последующих раз- делах решений поставленных производственно-технологических задач. Материал должен раскрыть состояние предметной области, оценить выявленные проблемы, выбрать способ решения и средства достижения цели. В результате анализа должна быть сформулирована цель и поставлена задача. При изложении материала можно использовать CASE-средства моделирования процессов (например, средства разработки IDEF0-диаграмм), если это необходимо для раскрытия темы.\n",
    "Структура раздела, может быть следующей:\n",
    "– характеристика процессов предметной области;\n",
    "– анализ существующих программных или алгоритмических средств; \n",
    "– постановка задачи.\n",
    "\"\"\"\n",
    "    },\n",
    "    {\n",
    "        \"name\": \"Специальный раздел\",\n",
    "        is_supersection_key: False,\n",
    "        has_subconclusion_key: True,\n",
    "        disable_subsections_generation_key: False,\n",
    "        min_tokens_key: 15 * TOKENS_PER_PAGE,\n",
    "        max_tokens_key: 20 * TOKENS_PER_PAGE,\n",
    "        description_key: \n",
    "\"\"\"\n",
    "Специальный раздел является основой ВКР. В этом разделе раскрываются особенности решения поставленной задачи: от описания метода решения поставленной задачи (при необходимости обоснование выбора метода), проектирования структурных, функциональных и принципиальных схем, моделей до разработки алгоритмов. При изложении материала можно использовать CASE-средства, например, средства разработки UML-диаграмм, если это необходимо для раскрытия темы.\n",
    "Конкретное содержание специального раздела определяется темой бакалаврской работы.\n",
    "\"\"\"\n",
    "    },\n",
    "    {\n",
    "        \"name\": \"Технологический раздел\",\n",
    "        is_supersection_key: False,\n",
    "        has_subconclusion_key: True,\n",
    "        disable_subsections_generation_key: False,\n",
    "        min_tokens_key: 10 * TOKENS_PER_PAGE,\n",
    "        max_tokens_key: 15 * TOKENS_PER_PAGE,\n",
    "        description_key: \n",
    "\"\"\"\n",
    "Технологический раздел ВКР выполняется как описание результатов реализации разрабатываемого решения по видам обеспечения: информационное обеспечение, программное обеспечение, техническое обеспечение. Описание Информационного обеспечения включает технологические процессы сбора и обработки информации для решения поставленных задач с использованием как существующих, так и разработанных средств, описание модели базы данных. При описании Программного обеспечения приводится обоснование среды реализации программного обеспечения, результаты апробации разработанного комплекса программ, описание интерфейса взаимодействия (графа диалога) и др. В параграфе «техническое обеспечение» приводится архитектура комплекса технических средств и их спецификация и др.\n",
    "В отдельный методический раздел могут выноситься руководство пользователя, руководство администратора, руководство программиста и другие нормативные разработки, регламентирующие эксплуатацию информационной си- стемы.\n",
    "\"\"\"\n",
    "    },\n",
    "    {\n",
    "        \"name\": \"Экономический раздел\",\n",
    "        is_supersection_key: False,\n",
    "        has_subconclusion_key: False,\n",
    "        disable_subsections_generation_key: True,\n",
    "        subsections_key: [\n",
    "            {\n",
    "                \"name\": \"Планирование разработки программного продукта\", \n",
    "                is_subconclusion_key: False\n",
    "            },\n",
    "            {\n",
    "                \"name\": \"Составление сметы затрат на разработку\", \n",
    "                is_subconclusion_key: False,\n",
    "                subsubsections_key: [\n",
    "                    {\n",
    "                        \"name\": \"Материальные затраты\",\n",
    "                    },\n",
    "                    {\n",
    "                        \"name\": \"Затраты на оплату труда\",\n",
    "                    },\n",
    "                    {\n",
    "                        \"name\": \"Амортизационные отчисления\",\n",
    "                    },\n",
    "                    {\n",
    "                        \"name\": \"Прочие расходы\",\n",
    "                    }\n",
    "                ]\n",
    "            },\n",
    "        ],\n",
    "        min_tokens_key: 1 * TOKENS_PER_PAGE,\n",
    "        max_tokens_key: 5 * TOKENS_PER_PAGE,\n",
    "        description_key: \n",
    "\"\"\"\n",
    "В экономическом разделе приводятся материалы по расчету показателей, обосновывающих экономическую целесообразность выполнения проектных работ, а также, расчет показателей экономической эффективности.\n",
    "В разделе могут быть приведены материалы, отражающие организацию процесса проектирования объекта проектной деятельности.\n",
    "\"\"\"\n",
    "    },\n",
    "    {\n",
    "        \"name\": \"Заключение\",\n",
    "        is_supersection_key: True,\n",
    "        has_subconclusion_key: False,\n",
    "        disable_subsections_generation_key: True,\n",
    "        min_tokens_key: 1 * TOKENS_PER_PAGE,\n",
    "        max_tokens_key: 3 * TOKENS_PER_PAGE,\n",
    "        description_key: \n",
    "\"\"\"\n",
    "В заключении дается краткая характеристика результатов, полученных в ходе выполнения выпускной квалификационной работы; какие задачи были решены лично автором; методы исследования проблемы; даются итоговые выводы по всем разделам работы; указывается новизна и возможность внедрения проекта.\n",
    "\"\"\"\n",
    "    }\n",
    "]"
   ],
   "metadata": {
    "collapsed": false,
    "ExecuteTime": {
     "end_time": "2023-08-13T19:23:24.862724Z",
     "start_time": "2023-08-13T19:23:24.851965Z"
    }
   },
   "id": "76bb90e62b319c0e"
  },
  {
   "cell_type": "code",
   "execution_count": 83,
   "outputs": [
    {
     "name": "stderr",
     "output_type": "stream",
     "text": [
      "100%|██████████| 6/6 [00:29<00:00,  4.85s/it]\n"
     ]
    }
   ],
   "source": [
    "from yagpt import TextGeneration, Message\n",
    "import re\n",
    "from tqdm import tqdm\n",
    "\n",
    "for section in tqdm(sections):\n",
    "    if section[disable_subsections_generation_key]:\n",
    "        continue\n",
    "    data = TextGeneration.instruct(f\"Напиши подразделы для раздела {section['name']}, \"\n",
    "                                   f\"основываясь на описании курсовой работы и описании раздела.\"\n",
    "                                   f\"В подразделы нельзя включать `введение` и `заключение`.\\n\\n\"\n",
    "                                   f\"Описание курсовой работы:\\n{description}\\n\\n\"\n",
    "                                   f\"Описание раздела:\\n{section[description_key]}\\n\\n\"\n",
    "                                   f\"Подразделы:\\n1.\", \"\", 0.01, retries=3)[\"result\"][\"alternatives\"][0][\"text\"]\n",
    "    matches = re.findall(\"([\\d+\\.]+) (.+)?\\n\", data)\n",
    "    if (len(matches) == 0):\n",
    "        print(\"No generated subsections for\", section['name'])\n",
    "    section[subsections_key] = []\n",
    "    for match in matches:\n",
    "        nesting_level = match[0].count('.')\n",
    "        title = match[1]\n",
    "        \n",
    "        if title[-1] in \".:\":\n",
    "            title= title[:-1]\n",
    "        \n",
    "        if nesting_level == 1:\n",
    "            section[subsections_key].append({\"name\": title, is_subconclusion_key: False})\n",
    "            \n",
    "        elif nesting_level == 2 and len(section[subsections_key]) > 0:\n",
    "            \n",
    "            if subsubsections_key not in section[subsections_key][-1].keys():\n",
    "                section[subsections_key][-1][subsubsections_key] = [] \n",
    "                \n",
    "            (section[subsections_key][-1][subsubsections_key]\n",
    "             .append({\"name\": title}))\n",
    "            \n",
    "    if section[has_subconclusion_key]:\n",
    "        section[subsections_key].append({\"name\": subconclusion_name, is_subconclusion_key: True})\n",
    "        "
   ],
   "metadata": {
    "collapsed": false,
    "ExecuteTime": {
     "end_time": "2023-08-13T19:36:46.232985Z",
     "start_time": "2023-08-13T19:36:17.149796Z"
    }
   },
   "id": "567c3ea6b730805c"
  },
  {
   "cell_type": "code",
   "execution_count": null,
   "outputs": [],
   "source": [
    "from pprint import pprint\n",
    "pprint(sections)"
   ],
   "metadata": {
    "collapsed": false
   },
   "id": "b59a6d6bed55a9f8"
  },
  {
   "cell_type": "code",
   "execution_count": 84,
   "outputs": [],
   "source": [
    "import toml\n",
    "import os\n",
    "\n",
    "directory = \"output\"\n",
    "if not os.path.exists(directory):\n",
    "    os.makedirs(directory)\n",
    "\n",
    "with open(f\"{directory}/course_work.toml\", \"w\") as file:\n",
    "    toml.dump({\"theme\": theme, \"description\": description, \"sections\": sections}, file)\n"
   ],
   "metadata": {
    "collapsed": false,
    "ExecuteTime": {
     "end_time": "2023-08-13T19:37:14.166722Z",
     "start_time": "2023-08-13T19:37:14.159332Z"
    }
   },
   "id": "4333be321d19bee"
  },
  {
   "cell_type": "code",
   "execution_count": null,
   "outputs": [],
   "source": [],
   "metadata": {
    "collapsed": false
   },
   "id": "856ec363e440a81b"
  }
 ],
 "metadata": {
  "kernelspec": {
   "display_name": "Python 3",
   "language": "python",
   "name": "python3"
  },
  "language_info": {
   "codemirror_mode": {
    "name": "ipython",
    "version": 2
   },
   "file_extension": ".py",
   "mimetype": "text/x-python",
   "name": "python",
   "nbconvert_exporter": "python",
   "pygments_lexer": "ipython2",
   "version": "2.7.6"
  }
 },
 "nbformat": 4,
 "nbformat_minor": 5
}
