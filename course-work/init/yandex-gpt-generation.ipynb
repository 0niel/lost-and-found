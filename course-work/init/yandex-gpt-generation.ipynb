{
 "cells": [
  {
   "cell_type": "code",
   "execution_count": 1,
   "id": "initial_id",
   "metadata": {
    "collapsed": true,
    "ExecuteTime": {
     "end_time": "2023-08-09T19:43:16.657743Z",
     "start_time": "2023-08-09T19:43:15.993866Z"
    }
   },
   "outputs": [
    {
     "name": "stdout",
     "output_type": "stream",
     "text": [
      "Requirement already satisfied: python-dotenv in /Users/valerijverhoturov/Library/Caches/pypoetry/virtualenvs/init-sxKJvSVg-py3.10/lib/python3.10/site-packages (1.0.0)\r\n",
      "\r\n",
      "\u001B[1m[\u001B[0m\u001B[34;49mnotice\u001B[0m\u001B[1;39;49m]\u001B[0m\u001B[39;49m A new release of pip is available: \u001B[0m\u001B[31;49m23.1.2\u001B[0m\u001B[39;49m -> \u001B[0m\u001B[32;49m23.2.1\u001B[0m\r\n",
      "\u001B[1m[\u001B[0m\u001B[34;49mnotice\u001B[0m\u001B[1;39;49m]\u001B[0m\u001B[39;49m To update, run: \u001B[0m\u001B[32;49mpip install --upgrade pip\u001B[0m\r\n",
      "Note: you may need to restart the kernel to use updated packages.\n"
     ]
    }
   ],
   "source": [
    "%pip install python-dotenv"
   ]
  },
  {
   "cell_type": "code",
   "execution_count": 2,
   "outputs": [],
   "source": [
    "%load_ext dotenv\n",
    "%dotenv"
   ],
   "metadata": {
    "collapsed": false,
    "ExecuteTime": {
     "end_time": "2023-08-09T19:43:17.534751Z",
     "start_time": "2023-08-09T19:43:17.522902Z"
    }
   },
   "id": "802316cf6a0e8b4a"
  },
  {
   "cell_type": "code",
   "execution_count": 5,
   "outputs": [
    {
     "name": "stdout",
     "output_type": "stream",
     "text": [
      "{'result': {'message': {'role': 'Ассистент', 'text': 'Хорошо, спасибо. А у вас?'}, 'num_tokens': '23'}}\n",
      "{'result': {'alternatives': [{'text': 'Я - искусственный интеллект, созданный для помощи людям. Моя задача - отвечать на вопросы и предоставлять информацию по запросу. Как я могу вам помочь?', 'score': -0.4338773488998413, 'num_tokens': '28'}], 'num_prompt_tokens': '8'}}\n",
      "{'tokens': [{'id': '0', 'text': '<s>', 'special': True}, {'id': '763', 'text': '▁как', 'special': False}, {'id': '1731', 'text': '▁дела', 'special': False}, {'id': '125917', 'text': '?', 'special': False}, {'id': '4', 'text': '[SEP]', 'special': True}]}\n"
     ]
    }
   ],
   "source": [
    "from yagpt import Tokenizer, TextGeneration, Message\n",
    "\n",
    "# Test     \n",
    "print(TextGeneration.chat([Message(\"user\", \"как дела?\")], \"ты помощник\", 1))\n",
    "print(TextGeneration.instruct(\"как дела?\", \"ты помощник\", 1))       \n",
    "print(Tokenizer.tokenize(\"как дела?\"))"
   ],
   "metadata": {
    "collapsed": false,
    "ExecuteTime": {
     "end_time": "2023-08-09T19:45:00.713876Z",
     "start_time": "2023-08-09T19:44:54.427734Z"
    }
   },
   "id": "4fb1f7e08670c1a6"
  },
  {
   "cell_type": "code",
   "execution_count": 6,
   "outputs": [],
   "source": [],
   "metadata": {
    "collapsed": false,
    "ExecuteTime": {
     "end_time": "2023-08-09T19:20:55.043596Z",
     "start_time": "2023-08-09T19:20:55.023774Z"
    }
   },
   "id": "db86c5f8a3da104b"
  },
  {
   "cell_type": "code",
   "execution_count": null,
   "outputs": [],
   "source": [],
   "metadata": {
    "collapsed": false
   },
   "id": "a788287b5dd8be4c"
  }
 ],
 "metadata": {
  "kernelspec": {
   "display_name": "Python 3",
   "language": "python",
   "name": "python3"
  },
  "language_info": {
   "codemirror_mode": {
    "name": "ipython",
    "version": 2
   },
   "file_extension": ".py",
   "mimetype": "text/x-python",
   "name": "python",
   "nbconvert_exporter": "python",
   "pygments_lexer": "ipython2",
   "version": "2.7.6"
  }
 },
 "nbformat": 4,
 "nbformat_minor": 5
}
